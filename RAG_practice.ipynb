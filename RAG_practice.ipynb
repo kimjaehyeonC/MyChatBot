{
 "cells": [
  {
   "cell_type": "code",
   "execution_count": 2,
   "metadata": {},
   "outputs": [],
   "source": [
    "import os  # 파일 작업을 위한 라이브러리\n",
    "import io\n",
    "import tempfile  # 임시 파일 저장을 위한 라이브러리\n",
    "from ipywidgets import FileUpload\n",
    "# import streamlit as st  # Streamlit을 사용해 웹 앱 구축\n",
    "from langchain.chat_models import ChatOpenAI  # OpenAI 채팅 모델 사용, + pip install --upgrade langchain openai\n",
    "from langchain.document_loaders import PyPDFLoader  # PDF 문서 로드\n",
    "from langchain.memory import ConversationBufferMemory  # 대화 기록 관리를 위한 메모리\n",
    "from langchain.memory.chat_message_histories import StreamlitChatMessageHistory  # Streamlit에서 메시지 저장\n",
    "from langchain.embeddings import HuggingFaceEmbeddings  # 텍스트 임베딩 (Hugging Face 모델 사용)\n",
    "from langchain.callbacks.base import BaseCallbackHandler  # 체인의 작업 중 콜백 핸들링\n",
    "from langchain.chains import ConversationalRetrievalChain  # 대화형 검색 체인\n",
    "from langchain.vectorstores import DocArrayInMemorySearch  # 메모리 내 문서 검색\n",
    "from langchain.text_splitter import RecursiveCharacterTextSplitter  # 문서를 작은 조각으로 나누기"
   ]
  },
  {
   "cell_type": "code",
   "execution_count": 3,
   "metadata": {},
   "outputs": [
    {
     "data": {
      "application/vnd.jupyter.widget-view+json": {
       "model_id": "997dc23b8eeb4811a1172d0e04bc439e",
       "version_major": 2,
       "version_minor": 0
      },
      "text/plain": [
       "FileUpload(value={}, description='Upload')"
      ]
     },
     "metadata": {},
     "output_type": "display_data"
    }
   ],
   "source": [
    "uploader = FileUpload(accept='', multiple=False)  # multiple=True로 하면 여러 파일 업로드 가능\n",
    "display(uploader)"
   ]
  },
  {
   "cell_type": "code",
   "execution_count": 4,
   "metadata": {},
   "outputs": [],
   "source": [
    "def read_uploaded_file(uploaded):\n",
    "    if uploaded:\n",
    "        file_name = list(uploaded.value.keys())[0]\n",
    "        content = uploaded.value[file_name]['content']\n",
    "        return io.BytesIO(content)\n",
    "    \n",
    "    else:\n",
    "        print('No file uploaded')\n",
    "        return None"
   ]
  },
  {
   "cell_type": "code",
   "execution_count": 6,
   "metadata": {},
   "outputs": [
    {
     "name": "stdout",
     "output_type": "stream",
     "text": [
      "파일 업로드 성공\n"
     ]
    }
   ],
   "source": [
    "if uploader.value:\n",
    "    uploaded_files = read_uploaded_file(uploader)\n",
    "    \n",
    "    if uploaded_files:\n",
    "        print(\"파일 업로드 성공\")"
   ]
  },
  {
   "cell_type": "code",
   "execution_count": 10,
   "metadata": {},
   "outputs": [
    {
     "data": {
      "text/plain": [
       "b'%PDF-1.7\\r%\\x80\\x84\\x88\\x8c\\x90\\x94\\x98\\x9c\\xa0\\xa4\\xa8\\xac\\xb0\\xb4\\xb8\\xbc\\xc0\\xc4\\xc8\\xcc\\xd0\\xd4\\xd8\\xdc\\xe0\\xe4\\xe8\\xec\\xf0\\xf4\\xf8\\xfc\\r\\r1097 0 obj\\r<< /T 4955280 /L 4977376 /Linearized 1 /E 452934 /O 1101 /H\\r[ 6800 1641\\r] /N 14\\r>>\\rendobj                 xref\\r1097 322\\r0000000044 00000 n\\r\\n'"
      ]
     },
     "execution_count": 10,
     "metadata": {},
     "output_type": "execute_result"
    }
   ],
   "source": [
    "file"
   ]
  },
  {
   "cell_type": "code",
   "execution_count": 7,
   "metadata": {},
   "outputs": [
    {
     "ename": "AttributeError",
     "evalue": "'bytes' object has no attribute 'name'",
     "output_type": "error",
     "traceback": [
      "\u001b[0;31m---------------------------------------------------------------------------\u001b[0m",
      "\u001b[0;31mAttributeError\u001b[0m                            Traceback (most recent call last)",
      "Cell \u001b[0;32mIn[7], line 5\u001b[0m\n\u001b[1;32m      2\u001b[0m temp_dir \u001b[38;5;241m=\u001b[39m tempfile\u001b[38;5;241m.\u001b[39mTemporaryDirectory()\n\u001b[1;32m      4\u001b[0m \u001b[38;5;28;01mfor\u001b[39;00m file \u001b[38;5;129;01min\u001b[39;00m uploaded_files:\n\u001b[0;32m----> 5\u001b[0m     temp_filepath \u001b[38;5;241m=\u001b[39m os\u001b[38;5;241m.\u001b[39mpath\u001b[38;5;241m.\u001b[39mjoin(temp_dir\u001b[38;5;241m.\u001b[39mname, file\u001b[38;5;241m.\u001b[39mname)\n\u001b[1;32m      6\u001b[0m     \u001b[38;5;28;01mwith\u001b[39;00m \u001b[38;5;28mopen\u001b[39m(temp_filepath, \u001b[38;5;124m'\u001b[39m\u001b[38;5;124mwb\u001b[39m\u001b[38;5;124m'\u001b[39m) \u001b[38;5;28;01mas\u001b[39;00m f:\n\u001b[1;32m      7\u001b[0m         f\u001b[38;5;241m.\u001b[39mwrite(file\u001b[38;5;241m.\u001b[39mgetvalue())\n",
      "\u001b[0;31mAttributeError\u001b[0m: 'bytes' object has no attribute 'name'"
     ]
    }
   ],
   "source": [
    "docs = []\n",
    "temp_dir = tempfile.TemporaryDirectory()\n",
    "\n",
    "for file in uploaded_files:\n",
    "    temp_filepath = os.path.join(temp_dir.name, file.name)\n",
    "    with open(temp_filepath, 'wb') as f:\n",
    "        f.write(file.getvalue())\n",
    "    \n",
    "    loader = PyPDFLoader(temp_filepath)\n",
    "    docs.extend(loader.load())"
   ]
  }
 ],
 "metadata": {
  "kernelspec": {
   "display_name": "base",
   "language": "python",
   "name": "python3"
  },
  "language_info": {
   "codemirror_mode": {
    "name": "ipython",
    "version": 3
   },
   "file_extension": ".py",
   "mimetype": "text/x-python",
   "name": "python",
   "nbconvert_exporter": "python",
   "pygments_lexer": "ipython3",
   "version": "3.12.7"
  }
 },
 "nbformat": 4,
 "nbformat_minor": 2
}
